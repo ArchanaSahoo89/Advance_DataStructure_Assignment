{
  "nbformat": 4,
  "nbformat_minor": 0,
  "metadata": {
    "colab": {
      "provenance": [],
      "authorship_tag": "ABX9TyNzfh8l73WKF/7GcQO1oElu",
      "include_colab_link": true
    },
    "kernelspec": {
      "name": "python3",
      "display_name": "Python 3"
    },
    "language_info": {
      "name": "python"
    }
  },
  "cells": [
    {
      "cell_type": "markdown",
      "metadata": {
        "id": "view-in-github",
        "colab_type": "text"
      },
      "source": [
        "<a href=\"https://colab.research.google.com/github/ArchanaSahoo89/Advance_DataStructure_Assignment/blob/main/Advance_DataStructure_Assignment.ipynb\" target=\"_parent\"><img src=\"https://colab.research.google.com/assets/colab-badge.svg\" alt=\"Open In Colab\"/></a>"
      ]
    },
    {
      "cell_type": "code",
      "execution_count": null,
      "metadata": {
        "colab": {
          "base_uri": "https://localhost:8080/"
        },
        "id": "nxdOfCyVlbGy",
        "outputId": "d4f7dfea-34a4-4ea6-a197-77b19beb2f53"
      },
      "outputs": [
        {
          "output_type": "stream",
          "name": "stdout",
          "text": [
            "Enter a text:PYTHON\n",
            "NOHTYP\n"
          ]
        }
      ],
      "source": [
        "# 1. Write a code to reverse a string.\n",
        "\n",
        "txt = input(\"Enter a text:\")\n",
        "r_txt = txt [::-1]\n",
        "print (r_txt)"
      ]
    },
    {
      "cell_type": "code",
      "source": [
        "# 2. Write a code to count the number of vowels in a string.\n",
        "\n",
        "txt = input(\"Enter a text:\")\n",
        "v_count = 0\n",
        "for i in txt:\n",
        "\tif i.lower() in \"aeiou\":\n",
        "\t\tv_count += 1\n",
        "print (v_count)\n"
      ],
      "metadata": {
        "colab": {
          "base_uri": "https://localhost:8080/"
        },
        "id": "9V8jVTqynP-K",
        "outputId": "51ab759f-8740-461c-c3fd-cbc752226ac6"
      },
      "execution_count": null,
      "outputs": [
        {
          "output_type": "stream",
          "name": "stdout",
          "text": [
            "Enter a text:CAMERA\n",
            "3\n"
          ]
        }
      ]
    },
    {
      "cell_type": "code",
      "source": [
        "# 3. write a code to check if a given string is palindrome or not.\n",
        "\n",
        "txt = input (\"Enter a text:\")\n",
        "r_txt = txt [::-1]\n",
        "\n",
        "if txt == r_txt:\n",
        "\tprint (\"Text is palindrome\")\n",
        "else:\n",
        "\tprint (\"Text is not palindrome\")"
      ],
      "metadata": {
        "colab": {
          "base_uri": "https://localhost:8080/"
        },
        "id": "jZ61fFETrXIc",
        "outputId": "444156bc-b2d7-4f2c-9ebb-63cb34364caf"
      },
      "execution_count": null,
      "outputs": [
        {
          "output_type": "stream",
          "name": "stdout",
          "text": [
            "Enter a text:WOW\n",
            "Text is palindrome\n"
          ]
        }
      ]
    },
    {
      "cell_type": "code",
      "source": [
        "# 4.Write a code to check if two given strings are anagrams of each other.\n",
        "\n",
        "str1 = input (\"Enter str1:\")\n",
        "str2 = input (\"Enter str2:\")\n",
        "\n",
        "str1 = str1.lower()\n",
        "str2 = str2.lower()\n",
        "\n",
        "if len(str1) ==  len(str2):\n",
        "\n",
        "\tsort_str1  = sorted(str1)\n",
        "\tsort_str2 = sorted(str2)\n",
        "\n",
        "\tif(sort_str1 == sort_str2):\n",
        "\t\tprint(str1 + \" and \" + str2 + \" are anagram\")\n",
        "\telse:\n",
        "\t\tprint(str1 + \" and \" + str2 + \" are not anagram\")\n",
        "\n",
        "else:\n",
        "\tprint(str1 + \" and \" + str2 + \" are not anagram\")\n"
      ],
      "metadata": {
        "colab": {
          "base_uri": "https://localhost:8080/"
        },
        "id": "qq1MGkutrXuQ",
        "outputId": "91fbc429-fbb9-4058-eb33-c2fe4597ad65"
      },
      "execution_count": null,
      "outputs": [
        {
          "output_type": "stream",
          "name": "stdout",
          "text": [
            "race and care are anagram\n"
          ]
        }
      ]
    },
    {
      "cell_type": "code",
      "source": [
        "# 5. Write a code to find all occurences of a given substring within another string.\n",
        "\n",
        "txt = input (\"Enter a text:\")\n",
        "parent_txt = input (\"Enter p_text:\")\n",
        "\n",
        "if txt in parent_txt:\n",
        "\n",
        "\tprint (parent_txt.count(txt))"
      ],
      "metadata": {
        "colab": {
          "base_uri": "https://localhost:8080/"
        },
        "id": "7m-WOje6rX7Y",
        "outputId": "1879e3a3-26d7-4560-9198-d022926a6ec1"
      },
      "execution_count": null,
      "outputs": [
        {
          "output_type": "stream",
          "name": "stdout",
          "text": [
            "Enter a text:a\n",
            "Enter p_text:Archana\n",
            "2\n"
          ]
        }
      ]
    },
    {
      "cell_type": "code",
      "source": [
        "# 6.write a code to perform basic string compression using the counts of repeated charactres.\n",
        "\n",
        "s = \"aabcccccaaa\"\n",
        "compressed = []\n",
        "count = 1\n",
        "\n",
        "for i in range(1, len(s)):\n",
        "    if s[i] == s[i - 1]:\n",
        "        count += 1\n",
        "    else:\n",
        "        compressed.append(s[i - 1] + str(count))\n",
        "        count = 1\n",
        "\n",
        "compressed.append(s[-1] + str(count))\n",
        "\n",
        "compressed_string = ''.join(compressed)\n",
        "print(compressed_string)\n"
      ],
      "metadata": {
        "id": "4DcNMQiCrYJR",
        "colab": {
          "base_uri": "https://localhost:8080/"
        },
        "outputId": "d90b767e-75e0-46eb-9d45-15067fac1588"
      },
      "execution_count": null,
      "outputs": [
        {
          "output_type": "stream",
          "name": "stdout",
          "text": [
            "a2b1c5a3\n"
          ]
        }
      ]
    },
    {
      "cell_type": "code",
      "source": [
        "# 7. Write a code to determine if a string has all unique characters.\n",
        "\n",
        "txt = input(\"Enter a text:\")\n",
        "t_set = set()\n",
        "for i in txt:\n",
        "  t_set.add(i)\n",
        "\n",
        "if len(txt) == len(t_set):\n",
        "  print (\"txt contains all unique chars.\")\n",
        "else:\n",
        "  print(\"txt contains duplicate chars.\")\n",
        "\n",
        "\n"
      ],
      "metadata": {
        "id": "S46DKtmsleYI",
        "colab": {
          "base_uri": "https://localhost:8080/"
        },
        "outputId": "e1ffb956-20c2-4f3d-c277-8114243d1ba5"
      },
      "execution_count": null,
      "outputs": [
        {
          "output_type": "stream",
          "name": "stdout",
          "text": [
            "Enter a text:elephant\n",
            "txt has duplicate chars.\n"
          ]
        }
      ]
    },
    {
      "cell_type": "code",
      "source": [
        "# 8. Write a code to convert a given string to upper or lower case.\n",
        "\n",
        "txt = input(\"Enter a text:\")\n",
        "s_txt = txt.swapcase()\n",
        "print (s_txt)"
      ],
      "metadata": {
        "id": "VPaLIjY5-db5",
        "colab": {
          "base_uri": "https://localhost:8080/"
        },
        "outputId": "5de7cc64-cdc7-4663-e5cc-2f69ace6f060"
      },
      "execution_count": null,
      "outputs": [
        {
          "output_type": "stream",
          "name": "stdout",
          "text": [
            "Enter a text:Testing\n",
            "tESTING\n"
          ]
        }
      ]
    },
    {
      "cell_type": "code",
      "source": [
        "# 9. Write a code to count the number words in a string.\n",
        "\n",
        "txt = input (\"Enter any text:\")\n",
        "list1 = txt.split()\n",
        "w_count = len (list1)\n",
        "print (\"w_count = \", w_count )\n",
        "\n"
      ],
      "metadata": {
        "colab": {
          "base_uri": "https://localhost:8080/"
        },
        "id": "G_nvcymCUaw6",
        "outputId": "fbc72f75-b23f-45a9-fe55-4c895a811b22"
      },
      "execution_count": null,
      "outputs": [
        {
          "output_type": "stream",
          "name": "stdout",
          "text": [
            "Enter any text:ram is looking at her\n",
            "w_count =  5\n"
          ]
        }
      ]
    },
    {
      "cell_type": "code",
      "source": [
        "# 10. Write a code to concatenete two strings without using the + operator.\n",
        "\n",
        "txt1 = input (\"Enter 1st string:\")\n",
        "txt2 = input (\"Enter 2nd string:\")\n",
        "\n",
        "c_txt = f\"{txt1}{txt2}\"\n",
        "print (c_txt)\n"
      ],
      "metadata": {
        "colab": {
          "base_uri": "https://localhost:8080/"
        },
        "id": "ped5qPtRVL-d",
        "outputId": "f24c9799-9742-46aa-ff1b-98d607fcb3e1"
      },
      "execution_count": null,
      "outputs": [
        {
          "output_type": "stream",
          "name": "stdout",
          "text": [
            "Enter 1st string:Archana\n",
            "Enter 2nd string:Ssahoo\n",
            "ArchanaSsahoo\n"
          ]
        }
      ]
    },
    {
      "cell_type": "code",
      "source": [
        "# 11. Write a code to remove occurence of a specific element from a list.\n",
        "\n",
        "list1 = [10, 5, 20, 2, 37, 28, 22, 50, 30, 44, 2, 55, 57, 5, 50, 50 ]\n",
        "r_value = int(input(\"Enter the value to be removed:\"))\n",
        "for i in list1:\n",
        "    if i == r_value:\n",
        "      list1.remove(r_value)\n",
        "print (list1)\n"
      ],
      "metadata": {
        "colab": {
          "base_uri": "https://localhost:8080/"
        },
        "id": "IaOriWi7VMj8",
        "outputId": "bc902896-7439-4656-915a-7086659d911b"
      },
      "execution_count": null,
      "outputs": [
        {
          "output_type": "stream",
          "name": "stdout",
          "text": [
            "Enter the value to be removed:5\n",
            "[10, 20, 2, 37, 2, 22, 30, 44, 2, 55, 57, 50]\n"
          ]
        }
      ]
    },
    {
      "cell_type": "code",
      "source": [
        "# 12. Write a code to find the second largest number in a given list of integer.\n",
        "\n",
        "list1 = [10, 100, 1000, 2000, 50, 90, 77, 500, 97]\n",
        "list2 = []\n",
        "highest = max(list1)\n",
        "\n",
        "i=0\n",
        "while i <= (len(list1) -1):\n",
        "    if list1[i] < highest:\n",
        "        list2.append(list1[i])\n",
        "    i+=1\n",
        "\n",
        "second_largest_number = max(list2)\n",
        "print (\"second largest no. in the list:\",second_largest_number)"
      ],
      "metadata": {
        "id": "Ksh4tzpwVNar",
        "colab": {
          "base_uri": "https://localhost:8080/"
        },
        "outputId": "b38dc900-fb52-40c9-eef5-689a138a2f39"
      },
      "execution_count": null,
      "outputs": [
        {
          "output_type": "stream",
          "name": "stdout",
          "text": [
            "second largest no. in the list: 1000\n"
          ]
        }
      ]
    },
    {
      "cell_type": "code",
      "source": [
        "# 13. Create a code to count the occurrences of each element in a list and return a dictionary with elements as keys and their counts as values.\n",
        "\n",
        "list1 = [\"a\", \"Python\", 3, 4, \"a\", 4, 5, \"Python\", 7]\n",
        "key1 = []\n",
        "values1 = []\n",
        "dict1 = dict()\n",
        "\n",
        "i = 0\n",
        "while i < (len(list1)):\n",
        "  if list1[i] in key1:\n",
        "    i += 1\n",
        "    continue\n",
        "  else:\n",
        "    key1.append(list1[i])\n",
        "    count1 = list1.count(list1[i])\n",
        "    values1.append(count1)\n",
        "    i += 1\n",
        "\n",
        "for x,y in zip(key1,values1):\n",
        "  dict1 [x] = y\n",
        "\n",
        "print (dict1)\n"
      ],
      "metadata": {
        "id": "F0iHfq5uVOSX",
        "colab": {
          "base_uri": "https://localhost:8080/"
        },
        "outputId": "967ce6c4-77a9-4610-aa4a-8171307fd11b"
      },
      "execution_count": null,
      "outputs": [
        {
          "output_type": "stream",
          "name": "stdout",
          "text": [
            "{'a': 2, 'Python': 2, 3: 1, 4: 2, 5: 1, 7: 1}\n"
          ]
        }
      ]
    },
    {
      "cell_type": "code",
      "source": [
        "# 14. Write a code to reverse a list in-place without using any built-in reverse function.\n",
        "\n",
        "list1 = [10, 15, True, \"Python\", \"Building\", (3+6j), 90, 500]\n",
        "rev_list1 = list1 [::-1]\n",
        "print (rev_list1)"
      ],
      "metadata": {
        "colab": {
          "base_uri": "https://localhost:8080/"
        },
        "id": "LNCJgzEJ8GRh",
        "outputId": "2e2d12f1-b7f9-4d6e-a66d-5486f109d25c"
      },
      "execution_count": null,
      "outputs": [
        {
          "output_type": "stream",
          "name": "stdout",
          "text": [
            "[500, 90, (3+6j), 'Building', 'Python', True, 15, 10]\n"
          ]
        }
      ]
    },
    {
      "cell_type": "code",
      "source": [
        "# 15. Implement a code to find and remove duplicates from a list while preserving the original order of elements.\n",
        "\n",
        "list1 = [1, 2, 3, 4, 1, \"Python\", 3 , \"Python\"]\n",
        "list2 = []\n",
        "i = 0\n",
        "while i < (len(list1)):\n",
        "  count = list1.count(list1[i])\n",
        "  if count == 1:\n",
        "    list2.append (list1[i])\n",
        "    i +=1\n",
        "  else:\n",
        "    if list1[i] in list2:\n",
        "      i +=1\n",
        "      continue\n",
        "    else:\n",
        "      list2.append(list1[i])\n",
        "      i += 1\n",
        "print (list2)\n"
      ],
      "metadata": {
        "id": "darj5NoS_V4e",
        "colab": {
          "base_uri": "https://localhost:8080/"
        },
        "outputId": "6b2dc16c-113b-4da6-df12-b53fb54f2e29"
      },
      "execution_count": null,
      "outputs": [
        {
          "output_type": "stream",
          "name": "stdout",
          "text": [
            "[1, 2, 3, 4, 'Python']\n"
          ]
        }
      ]
    },
    {
      "cell_type": "code",
      "source": [
        "# 16. Create a code to check if a given list is sorted (either in ascending or descending order) or not.\n",
        "\n",
        "list1 = [1, 2, 90, 500, 4, 55, 67, 40]\n",
        "Asc_list1 = sorted(list1)\n",
        "Desc_list1 = sorted(list1, reverse = True)\n",
        "\n",
        "if list1 == Asc_list1:\n",
        "  print (\"List1 is sorted in Ascending order.\")\n",
        "elif list1 == Desc_list1:\n",
        "  print (\"List1 is sorted in descending order.\")\n",
        "else:\n",
        "  print (\"List1 is not sorted.\")\n"
      ],
      "metadata": {
        "id": "fBZK2nicEe2_",
        "colab": {
          "base_uri": "https://localhost:8080/"
        },
        "outputId": "a45be050-81c3-4b8d-fecc-bdd849d72195"
      },
      "execution_count": null,
      "outputs": [
        {
          "output_type": "stream",
          "name": "stdout",
          "text": [
            "List1 is not sorted\n"
          ]
        }
      ]
    },
    {
      "cell_type": "code",
      "source": [
        "# 17. Write a code to merge two sorted lists into a single sorted list.\n",
        "\n",
        "lst1 = [25, 35, 45, 65, 85, 95]\n",
        "lst2 = [20, 30, 40, 60, 80, 90]\n",
        "lst3 = sorted (lst1 + lst2)\n",
        "print(lst3)\n",
        "\n"
      ],
      "metadata": {
        "id": "N3LxzLuRvbDq",
        "colab": {
          "base_uri": "https://localhost:8080/"
        },
        "outputId": "b1d6e0a4-2881-4604-ef3f-cd4263187af9"
      },
      "execution_count": null,
      "outputs": [
        {
          "output_type": "stream",
          "name": "stdout",
          "text": [
            "[20, 25, 30, 35, 40, 45, 60, 65, 80, 85, 90, 95]\n"
          ]
        }
      ]
    },
    {
      "cell_type": "code",
      "source": [
        "# 18. Implement a code to find intersection of two given lists.\n",
        "\n",
        "lst1 = (input (\"Enter 1st list members separated by comma: \")).split(',')\n",
        "lst2 = (input (\"Enter 2nd list members separated by comma: \")).split(',')\n",
        "\n",
        "set1 = set(lst1)\n",
        "set2 = set(lst2)\n",
        "set3 = set1.intersection(set2)\n",
        "print (list(set3))\n",
        "\n",
        "\n"
      ],
      "metadata": {
        "id": "Sdm75CQCvayW",
        "colab": {
          "base_uri": "https://localhost:8080/"
        },
        "outputId": "0fb96ca0-bab9-4663-fd10-0cfd291f0cd9"
      },
      "execution_count": null,
      "outputs": [
        {
          "output_type": "stream",
          "name": "stdout",
          "text": [
            "Enter 1st list members separated by comma: 10,20,30,40\n",
            "Enter 2nd list members separated by comma: 90,20,80,30\n",
            "['30', '20']\n"
          ]
        }
      ]
    },
    {
      "cell_type": "code",
      "source": [
        "# 19. create a code to find union of two lists without duplicates.\n",
        "\n",
        "list1 = (input (\"Enter 1st list members separated by comma: \")).split(',')\n",
        "list2 = (input (\"Enter 2nd list members separated by comma: \")).split(',')\n",
        "\n",
        "set1 = set(list1)\n",
        "set2 = set(list2)\n",
        "print (set1.union(set2))\n",
        "\n"
      ],
      "metadata": {
        "id": "83HkAKTcvaJR",
        "colab": {
          "base_uri": "https://localhost:8080/"
        },
        "outputId": "56ce5651-2230-42b1-afa9-ef3b2a6ab6fa"
      },
      "execution_count": null,
      "outputs": [
        {
          "output_type": "stream",
          "name": "stdout",
          "text": [
            "Enter 1st list members separetd by comma: 10,11,10,2,3,5,2\n",
            "Enter 2nd list members separetd by comma: 'python', 5,3,1,2,6\n",
            "{'6', \"'python'\", '2', '1', ' 5', '10', '3', '11', '5'}\n"
          ]
        }
      ]
    },
    {
      "cell_type": "code",
      "source": [
        "# 20. Write a code to shuffle a given list randomly without using any built-in shuffle functions.\n",
        "\n",
        "import random\n",
        "def shuffle_list(lst):\n",
        "    n = len(lst)\n",
        "    for i in range(n-1, 0, -1):\n",
        "        j = random.randint(0, i)\n",
        "        lst[i], lst[j] = lst[j], lst[i]\n",
        "    return lst\n",
        "\n",
        "\n",
        "original_list = [1, 2, 3, 4, 5]\n",
        "shuffled_list = shuffle_list(original_list.copy())\n",
        "print(\"Original list:\", original_list)\n",
        "print(\"Shuffled list:\", shuffled_list)\n"
      ],
      "metadata": {
        "id": "TGA5KpMayhSS",
        "colab": {
          "base_uri": "https://localhost:8080/"
        },
        "outputId": "7a3af0d5-5a14-47ba-84d1-eae295ebbc32"
      },
      "execution_count": null,
      "outputs": [
        {
          "output_type": "stream",
          "name": "stdout",
          "text": [
            "Original list: [1, 2, 3, 4, 5]\n",
            "Shuffled list: [4, 1, 2, 3, 5]\n"
          ]
        }
      ]
    },
    {
      "cell_type": "code",
      "source": [
        "# 21. Write a code that takes two tuples as input and returns a new tuple containing elements that are common to both input tuples.\n",
        "\n",
        "tple1 = (1, 2, 3, 4)\n",
        "tple2 = (2, 3, 5, 6)\n",
        "\n",
        "set1 = set (tple1)\n",
        "set2 = set (tple2)\n",
        "set3 = set1.intersection(set2)\n",
        "tple3 = tuple(set3)\n",
        "print (tple3)\n"
      ],
      "metadata": {
        "id": "qbezZyFNyhAa",
        "colab": {
          "base_uri": "https://localhost:8080/"
        },
        "outputId": "f058e951-08ce-4ab6-8f3e-c00215f218dc"
      },
      "execution_count": null,
      "outputs": [
        {
          "output_type": "stream",
          "name": "stdout",
          "text": [
            "(2, 3)\n"
          ]
        }
      ]
    },
    {
      "cell_type": "code",
      "source": [
        "# 22. Create a code that prompts the user to enter two sets of integers separated by comma.Then print the intersection of these two sets.\n",
        "\n",
        "lst1 = input(\"Enter the first set of integers, separated by commas: \")\n",
        "lst1 = lst1.split (\",\")\n",
        "set1 = set(int(i) for i in lst1 )\n",
        "\n",
        "lst2 = input(\"Enter the first set of integers, separated by commas: \")\n",
        "lst2 = lst2.split (\",\")\n",
        "set2 = set(int(i) for i in lst2 )\n",
        "\n",
        "c_members = set1.intersection(set2)\n",
        "print(\"Intersection of set1 & set2:\", c_members)\n"
      ],
      "metadata": {
        "id": "XSMih9Bfygxy",
        "colab": {
          "base_uri": "https://localhost:8080/"
        },
        "outputId": "6b47416c-9b64-40b4-91cf-9614cc4efd0e"
      },
      "execution_count": null,
      "outputs": [
        {
          "output_type": "stream",
          "name": "stdout",
          "text": [
            "Enter the first set of integers, separated by commas: 1,2,4,6\n",
            "Enter the first set of integers, separated by commas: 7,2,4,6\n",
            "Intersection of set1 & set2: {2, 4, 6}\n"
          ]
        }
      ]
    },
    {
      "cell_type": "code",
      "source": [
        "# 23. Write a code to concatenate two tuples. The function should take two tuples as input and return a new tuple containing elements from both input tuples.\n",
        "\n",
        "def concatenate_tuples (tuple_1,tuple_2):\n",
        "    return (tuple_1 + tuple_2)\n",
        "\n",
        "tuple_1 = (1,2,3)\n",
        "tuple_2 = (5,7,8)\n",
        "tuple_3 = concatenate_tuples(tuple_1, tuple_2)\n",
        "print (tuple_3)\n"
      ],
      "metadata": {
        "id": "Kq9NG7hByguS",
        "colab": {
          "base_uri": "https://localhost:8080/"
        },
        "outputId": "6f4076d0-86da-4e39-e9b4-6b209213f671"
      },
      "execution_count": null,
      "outputs": [
        {
          "output_type": "stream",
          "name": "stdout",
          "text": [
            "(1, 2, 3, 5, 7, 8)\n"
          ]
        }
      ]
    },
    {
      "cell_type": "code",
      "source": [
        "# 24. Develop a code that prompts a user to input two sets of strings. Then print the elements that are present in the first set but not in the second set.\n",
        "\n",
        "str1 = input (\"Enter set of String_1 separated by spaces: \")\n",
        "set1 = set(str1.split())\n",
        "\n",
        "str2 = input (\"Enter set of string_2 separated by spaces: \")\n",
        "set2 = set(str2.split())\n",
        "\n",
        "set3 = set1 - set2\n",
        "\n",
        "print (\"Elemnets present in str1 but not in str2\", set3)\n"
      ],
      "metadata": {
        "colab": {
          "base_uri": "https://localhost:8080/"
        },
        "id": "n3QVinC5SA3h",
        "outputId": "df4da25c-f0e3-46e0-cc3f-cf267c0bbc75"
      },
      "execution_count": null,
      "outputs": [
        {
          "output_type": "stream",
          "name": "stdout",
          "text": [
            "Enter set of String_1 separated by spaces: b o o k \n",
            "Enter set of string_2 separated by spaces: o o p s\n",
            "Elemnets present in str1 but not in str2 {'b', 'k'}\n"
          ]
        }
      ]
    },
    {
      "cell_type": "code",
      "source": [
        "# 25. Create a code that takes a tuple and two integers as input. The function should return a new tuple containing elements from the original tuple within the specified range of indices.\n",
        "\n",
        "def slice_tuple(input_tuple, start_index, end_index):\n",
        "    return input_tuple[start_index:end_index]\n",
        "\n",
        "input_tuple = (10, 260, 300, 409, 507, 605, 70)\n",
        "start_index = 2\n",
        "end_index = 5\n",
        "result = slice_tuple(input_tuple, start_index, end_index)\n",
        "\n",
        "print(\"Sliced tuple:\", result)\n",
        "\n"
      ],
      "metadata": {
        "colab": {
          "base_uri": "https://localhost:8080/"
        },
        "id": "MBgkSvOgSDYt",
        "outputId": "8660f97f-86af-4278-ebc0-e1d70936c41d"
      },
      "execution_count": null,
      "outputs": [
        {
          "output_type": "stream",
          "name": "stdout",
          "text": [
            "Sliced tuple: (300, 409, 507)\n"
          ]
        }
      ]
    },
    {
      "cell_type": "code",
      "source": [
        "# 26. Write a code that prompts the user to input two sets of characters. Then, print the union of these two sets.\n",
        "\n",
        "set1 = set(input (\"Enter set of characters separated by spaces: \").split())\n",
        "\n",
        "set2 = set(input (\"Enter set of characters separated by spaces: \").split())\n",
        "\n",
        "union_set = set1.union(set2)\n",
        "print (\"Union of Set1 and set2: \", union_set)"
      ],
      "metadata": {
        "colab": {
          "base_uri": "https://localhost:8080/"
        },
        "id": "B3v9tFrISDKn",
        "outputId": "5916e4a1-7285-4da2-8190-a10dddce9a97"
      },
      "execution_count": null,
      "outputs": [
        {
          "output_type": "stream",
          "name": "stdout",
          "text": [
            "Enter set of characters separated by spaces: j a v a\n",
            "Enter set of characters separated by spaces: p y t h o n\n",
            "Union of Set1 and set2:  {'t', 'y', 'p', 'a', 'o', 'j', 'v', 'n', 'h'}\n"
          ]
        }
      ]
    },
    {
      "cell_type": "markdown",
      "source": [],
      "metadata": {
        "id": "KZXjDDcTqLIv"
      }
    },
    {
      "cell_type": "code",
      "source": [
        "# 27. Develope a code that takes a tuple of integers as input. The function should return the maximum and minimum values from the tuple using tuple unpacking.\n",
        "\n",
        "def find_max_min(numbers):\n",
        "    max_val, min_val = max(numbers), min(numbers)\n",
        "    return max_val, min_val\n",
        "\n",
        "numbers = (10, 5, 90, 60,26)\n",
        "find_max_min(numbers)\n",
        "\n"
      ],
      "metadata": {
        "id": "FeuB74MYSC7p",
        "colab": {
          "base_uri": "https://localhost:8080/"
        },
        "outputId": "de57df0f-93b8-418d-a5bf-fc8cea028823"
      },
      "execution_count": null,
      "outputs": [
        {
          "output_type": "execute_result",
          "data": {
            "text/plain": [
              "(90, 5)"
            ]
          },
          "metadata": {},
          "execution_count": 1
        }
      ]
    },
    {
      "cell_type": "code",
      "source": [
        "# 28. create a code that defines two sets of integers. Then find the union, intersection and difference of these two sets.\n",
        "\n",
        "s1= {1, 2, 4, 3,6}\n",
        "s2= {5, 6, 8, 9, 4, 6}\n",
        "union_set = s1.union(s2)\n",
        "intersection_set = s1.intersection(s2)\n",
        "Difference_set = s1.difference(s2)\n",
        "print(\"union of s1 and s2:\", union_set)\n",
        "print(\"Intersection of s1 and s2:\", intersection_set)\n",
        "print (\"Difference of s1 and s2:\", Difference_set)\n"
      ],
      "metadata": {
        "id": "aAg0knuwSCp-",
        "colab": {
          "base_uri": "https://localhost:8080/"
        },
        "outputId": "16b34836-b554-4bbc-eca3-ecc67250ace1"
      },
      "execution_count": null,
      "outputs": [
        {
          "output_type": "stream",
          "name": "stdout",
          "text": [
            "union of s1 and s2: {1, 2, 3, 4, 5, 6, 8, 9}\n",
            "Intersection of s1 and s2: {4, 6}\n",
            "Difference of s2 from s1: {1, 2, 3}\n"
          ]
        }
      ]
    },
    {
      "cell_type": "code",
      "source": [
        "# 29. Write a code that takes a tuple and an integer as input. The function should return the count of occurance of the given elemnet in the tuple.\n",
        "\n",
        "def count_occurance(tuple1, element):\n",
        "  return tuple1.count(element)\n",
        "\n",
        "tuple1 = (109,34,65,78,32,(-3+5j),78,34,32,78,1098)\n",
        "element = int(input(\"Enter any element from the given tuple: \"))\n",
        "\n",
        "occurances = count_occurance(tuple1, element)\n",
        "print(occurances)\n"
      ],
      "metadata": {
        "id": "g7_tUpO6SCJf",
        "colab": {
          "base_uri": "https://localhost:8080/"
        },
        "outputId": "bb1a8cb1-33a1-49d0-c980-74a49adec43c"
      },
      "execution_count": null,
      "outputs": [
        {
          "output_type": "stream",
          "name": "stdout",
          "text": [
            "Enter any element from the given tuple: 34\n",
            "2\n"
          ]
        }
      ]
    },
    {
      "cell_type": "code",
      "source": [
        "# 30. Develope a code that prompts the user to input two sets of strings. Then print the symmetric difference of these two sets.\n",
        "\n",
        "set1_input = input(\"Enter the first set of strings,separated by commas: \")\n",
        "set1 = set(set1_input.split(','))\n",
        "\n",
        "set2_input = input(\"Enter the second set of strings,separated by commas: \")\n",
        "set2 = set(set2_input.split(','))\n",
        "\n",
        "symmetric_diff = set1.symmetric_difference(set2)\n",
        "print(\"The symmetric difference between the two sets is:\", symmetric_diff)\n",
        "\n"
      ],
      "metadata": {
        "id": "CMYsZ0AWSBw6"
      },
      "execution_count": null,
      "outputs": []
    },
    {
      "cell_type": "code",
      "source": [
        "\n",
        "# 31. Write a code that takes a list of words as input and returns a dictionary where the keys are unique words and the values are the frequencies of those words in the input list.\n",
        "\n",
        "words = input(\"Enter a list of words separated by spaces: \").split()\n",
        "\n",
        "word_frequency = {}\n",
        "\n",
        "for word in words:\n",
        "    if word in word_frequency:\n",
        "        word_frequency[word] += 1\n",
        "    else:\n",
        "        word_frequency[word] = 1\n",
        "\n",
        "print(\"Word Frequencies:\", word_frequency)\n"
      ],
      "metadata": {
        "colab": {
          "base_uri": "https://localhost:8080/"
        },
        "id": "afHUM6WuCyMC",
        "outputId": "63bf4fa5-443b-455d-e005-ec3198c7b17a"
      },
      "execution_count": null,
      "outputs": [
        {
          "output_type": "stream",
          "name": "stdout",
          "text": [
            "Enter a list of words separated by spaces: 'Ram' 'Shyam' 'Krishna' 'Ram' 'Krishna'\n",
            "Word Frequencies: {\"'Ram'\": 2, \"'Shyam'\": 1, \"'Krishna'\": 2}\n"
          ]
        }
      ]
    },
    {
      "cell_type": "code",
      "source": [
        "# 32. Write a code that takes two dictionaries as input and merges them into a single dictionary. If there are common keys, the vales should be added together.\n",
        "\n",
        "dict1 = eval(input(\"Enter the first dictionary: \"))\n",
        "dict2 = eval(input(\"Enter the second dictionary: \"))\n",
        "\n",
        "merged_dict = dict1.copy()\n",
        "\n",
        "for key, value in dict2.items():\n",
        "    if key in merged_dict:\n",
        "        merged_dict[key] += value\n",
        "    else:\n",
        "        merged_dict[key] = value\n",
        "\n",
        "\n",
        "print(\"Merged Dictionary:\", merged_dict)\n"
      ],
      "metadata": {
        "colab": {
          "base_uri": "https://localhost:8080/"
        },
        "id": "WgiMPFuYCx4H",
        "outputId": "a3619165-160b-4142-90da-c1c7847c3152"
      },
      "execution_count": null,
      "outputs": [
        {
          "output_type": "stream",
          "name": "stdout",
          "text": [
            "Enter the first dictionary: {'a': 10, 'b': 20, 'c': 30}\n",
            "Enter the second dictionary: {'b': 5, 'c': 15, 'd': 25}\n",
            "Merged Dictionary: {'a': 10, 'b': 25, 'c': 45, 'd': 25}\n"
          ]
        }
      ]
    },
    {
      "cell_type": "code",
      "source": [
        "# 33. Write a code to access a value in a nested dictionary. The function should take the dictionary and a list of keys as input, and return the corresponding value. If any of the keys do not exist in the dictionary, the function should return None.\n",
        "\n",
        "def get_nested_value(d, keys):\n",
        "    for key in keys:\n",
        "        if isinstance(d, dict) and key in d:\n",
        "            d = d[key]\n",
        "        else:\n",
        "            return None\n",
        "    return d\n",
        "\n",
        "nested_dict = {'a': {'b': {'c': 'value'}}}\n",
        "\n",
        "keys = ['a', 'b', 'c']\n",
        "print(get_nested_value(nested_dict, keys))\n",
        "\n",
        "keys = ['a', 'b', 'd']\n",
        "print(get_nested_value(nested_dict, keys))\n",
        "\n",
        "\n",
        "\n",
        "\n"
      ],
      "metadata": {
        "id": "hclJpYDDCxkd",
        "colab": {
          "base_uri": "https://localhost:8080/"
        },
        "outputId": "e294bbf2-7781-41bf-8ce6-0983fbc5765d"
      },
      "execution_count": null,
      "outputs": [
        {
          "output_type": "stream",
          "name": "stdout",
          "text": [
            "value\n",
            "None\n"
          ]
        }
      ]
    },
    {
      "cell_type": "code",
      "source": [
        "# 34. Write a code that takes a dictionary as input and returns a sorted version of it based on the values. You can choose whether to sort in ascending or descending order.\n",
        "\n",
        "input_dict = {'apple': 3, 'banana': 1, 'cherry': 2}\n",
        "\n",
        "ascending = True\n",
        "\n",
        "sorted_items = sorted(input_dict.items(), key=lambda item: item[1], reverse=not ascending)\n",
        "\n",
        "sorted_dict = dict(sorted_items)\n",
        "\n",
        "print(\"Sorted Dictionary:\", sorted_dict)\n",
        "\n"
      ],
      "metadata": {
        "id": "_YnM8tAoCxQc",
        "colab": {
          "base_uri": "https://localhost:8080/"
        },
        "outputId": "9750f0e9-0bbb-46c2-de54-1ffb12e3bee4"
      },
      "execution_count": null,
      "outputs": [
        {
          "output_type": "stream",
          "name": "stdout",
          "text": [
            "Sorted Dictionary: {'banana': 1, 'cherry': 2, 'apple': 3}\n"
          ]
        }
      ]
    },
    {
      "cell_type": "code",
      "source": [
        "# 35. Write a code that inverts a dictionary, swapping keys and values. Ensure that the inverted dictionary correctly handles cases where multiple keys have the same value by storing the keys as a list in the inverted dictionary.\n",
        "\n",
        "def invert_dict(d):\n",
        "    inverted = {}\n",
        "    for key, value in d.items():\n",
        "        if value not in inverted:\n",
        "            inverted[value] = [key]\n",
        "        else:\n",
        "            inverted[value].append(key)\n",
        "    return inverted\n",
        "\n",
        "original_dict = {'a': 1, 'b': 2, 'c': 1, 'd': 3}\n",
        "\n",
        "inverted_dict = invert_dict(original_dict)\n",
        "print(inverted_dict)\n"
      ],
      "metadata": {
        "id": "va1wXvjiCw-M",
        "colab": {
          "base_uri": "https://localhost:8080/"
        },
        "outputId": "137808d6-d12d-4332-a656-2b9d0aac5b9a"
      },
      "execution_count": null,
      "outputs": [
        {
          "output_type": "stream",
          "name": "stdout",
          "text": [
            "{1: ['a', 'c'], 2: ['b'], 3: ['d']}\n"
          ]
        }
      ]
    },
    {
      "cell_type": "code",
      "source": [],
      "metadata": {
        "id": "FAcwXqFLCwg-"
      },
      "execution_count": null,
      "outputs": []
    }
  ]
}